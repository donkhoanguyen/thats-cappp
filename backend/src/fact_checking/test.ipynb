{
 "cells": [
  {
   "cell_type": "code",
   "execution_count": 14,
   "metadata": {},
   "outputs": [
    {
     "data": {
      "text/plain": [
       "True"
      ]
     },
     "execution_count": 14,
     "metadata": {},
     "output_type": "execute_result"
    }
   ],
   "source": [
    "import os\n",
    "from typing import Dict, TypedDict, Annotated, Sequence, List, Optional\n",
    "\n",
    "from langchain_core.messages import SystemMessage, HumanMessage, AIMessage, BaseMessage\n",
    "from langchain_openai import ChatOpenAI\n",
    "from langchain_core.prompts import ChatPromptTemplate\n",
    "from langchain_core.output_parsers import StrOutputParser\n",
    "from langgraph.graph import StateGraph, END\n",
    "\n",
    "from dotenv import load_dotenv\n",
    "load_dotenv()\n",
    "\n"
   ]
  },
  {
   "cell_type": "code",
   "execution_count": 15,
   "metadata": {},
   "outputs": [],
   "source": [
    "# # Define the state schema\n",
    "# class GraphState(TypedDict):\n",
    "#     context: Annotated[str, \"The background context of a video, as text\"]\n",
    "#     claims: Annotated[Sequence[str], \"Claims that need fact checking\"]\n",
    "#     next: str"
   ]
  },
  {
   "cell_type": "code",
   "execution_count": 16,
   "metadata": {},
   "outputs": [],
   "source": [
    "class VerificationAgentState(TypedDict):\n",
    "    context: Annotated[str, \"The background context of a video, as text\"]\n",
    "    claim: Annotated[str, \"A single claim that needs fact checking\"]\n",
    "    # is_verifiable: Annotated[Optional[bool], \"Whether the claim can be verified\"]\n",
    "    claim_type: Annotated[Optional[str], \"Type of claim\"]\n",
    "    fact_check_result: Annotated[Optional[str], \"Fact check result\"]\n",
    "    next: str"
   ]
  },
  {
   "cell_type": "code",
   "execution_count": 17,
   "metadata": {},
   "outputs": [],
   "source": [
    "from langchain.chat_models import ChatOpenAI\n",
    "from typing import Dict\n",
    "import os\n",
    "\n",
    "def classifier_node(state: VerificationAgentState) -> Dict:\n",
    "    llm = ChatOpenAI(model=\"gpt-4o-mini\", temperature=0.0, \n",
    "                     api_key=os.getenv(\"OPENAI_API_KEY\"))\n",
    "    \n",
    "    claim = state[\"claim\"]\n",
    "\n",
    "    prompt = f\"\"\"\n",
    "Help me classify the following claim into one of 3 types:\n",
    "1. factual – something that can be verified via reliable sources\n",
    "2. opinion – a subjective or personal judgment\n",
    "3. unverifiable – something that is ambiguous or too vague to verify\n",
    "\n",
    "Claim: \"{claim}\"\n",
    "\n",
    "Respond with only the label: factual, opinion, or unverifiable.\n",
    "\"\"\"\n",
    "\n",
    "    response = llm.invoke(prompt)\n",
    "\n",
    "    claim_type = response.content.strip().lower()\n",
    "\n",
    "    return {\n",
    "        \"claim_type\": claim_type,\n",
    "        \"next\": \"verify\" if claim_type == \"factual\" else \"end\"\n",
    "    }"
   ]
  },
  {
   "cell_type": "code",
   "execution_count": 18,
   "metadata": {},
   "outputs": [],
   "source": [
    "# from langchain_core.caches import BaseCache\n",
    "# from langchain_core.callbacks import BaseCallbackHandler\n",
    "# from typing import Any, Dict, List\n",
    "\n",
    "# class CustomCallbackHandler(BaseCallbackHandler):\n",
    "#     def on_llm_start(self, serialized: Dict[str, Any], prompts: List[str], **kwargs: Any) -> None:\n",
    "#         print(f\"Starting LLM with prompts: {prompts}\")\n",
    "        \n",
    "#     def on_llm_end(self, response: Any, **kwargs: Any) -> None:\n",
    "#         print(f\"LLM finished. Response: {response}\")\n",
    "        \n",
    "#     def on_llm_error(self, error: Exception, **kwargs: Any) -> None:\n",
    "#         print(f\"LLM encountered an error: {error}\")\n",
    "        \n",
    "#     def on_chain_start(self, serialized: Dict[str, Any], inputs: Dict[str, Any], **kwargs: Any) -> None:\n",
    "#         print(f\"Starting chain with inputs: {inputs}\")\n",
    "        \n",
    "#     def on_chain_end(self, outputs: Dict[str, Any], **kwargs: Any) -> None:\n",
    "#         print(f\"Chain finished. Outputs: {outputs}\")\n",
    "        \n",
    "#     def on_chain_error(self, error: Exception, **kwargs: Any) -> None:\n",
    "#         print(f\"Chain encountered an error: {error}\")\n",
    "\n",
    "# # Initialize callback handler\n",
    "# callback_handler = CustomCallbackHandler()\n"
   ]
  },
  {
   "cell_type": "code",
   "execution_count": 19,
   "metadata": {},
   "outputs": [],
   "source": [
    "# ChatOpenAI.model_rebuild()"
   ]
  },
  {
   "cell_type": "code",
   "execution_count": 20,
   "metadata": {},
   "outputs": [],
   "source": [
    "from fact_checker import FactChecker\n",
    "\n",
    "# Fact checker using pplx\n",
    "def fact_checker_node(state: VerificationAgentState) -> Dict:\n",
    "    checker = FactChecker()\n",
    "    # Example claims to check\n",
    "\n",
    "    claim = state[\"claim\"]\n",
    "\n",
    "    # Print the fact-checking results\n",
    "    print(\"\\nFact-checking Results:\")\n",
    "\n",
    "    # Check the claims\n",
    "    result = checker.check_claims(claim)\n",
    "\n",
    "    return {\"fact_check_result\": result,\n",
    "            \"next\": \"end\"\n",
    "            }"
   ]
  },
  {
   "cell_type": "code",
   "execution_count": 21,
   "metadata": {},
   "outputs": [],
   "source": [
    "def build_graph():\n",
    "    # Initialize the graph\n",
    "    graph = StateGraph(VerificationAgentState)\n",
    "    \n",
    "    # Add nodes\n",
    "    graph.add_node(\"classifier\", classifier_node)\n",
    "    graph.add_node(\"fact_checker\", fact_checker_node)\n",
    "    \n",
    "    # Add conditional edges from classifier\n",
    "    graph.add_conditional_edges(\n",
    "        \"classifier\",\n",
    "        lambda state: state[\"next\"],\n",
    "        {\n",
    "            \"fact_checker\": \"fact_checker\",  # Route to fact-checking if verifiable\n",
    "            \"end\": END                       # Route to end if not verifiable\n",
    "        }\n",
    "    )\n",
    "    \n",
    "    # Add edge from fact_checker to end\n",
    "    graph.add_edge(\"fact_checker\", END)\n",
    "    \n",
    "    # Set the entry point\n",
    "    graph.set_entry_point(\"classifier\")\n",
    "    \n",
    "    # Compile the graph\n",
    "    return graph.compile()"
   ]
  },
  {
   "cell_type": "code",
   "execution_count": 22,
   "metadata": {},
   "outputs": [],
   "source": [
    "# Create and test the graph\n",
    "graph = build_graph()\n",
    "\n",
    "# Test the graph with a sample input\n",
    "messages = [\n",
    "    SystemMessage(content=\"You are a helpful assistant.\"),\n",
    "    HumanMessage(content=\"China has a 65% rice tariff on the US\")\n",
    "]"
   ]
  },
  {
   "cell_type": "code",
   "execution_count": 23,
   "metadata": {},
   "outputs": [
    {
     "name": "stdout",
     "output_type": "stream",
     "text": [
      "Requirement already satisfied: grandalf in /Users/khoadangnguyen/Desktop/thats-cappp/pplx/lib/python3.12/site-packages (0.8)\n",
      "Requirement already satisfied: pyparsing in /Users/khoadangnguyen/Desktop/thats-cappp/pplx/lib/python3.12/site-packages (from grandalf) (3.2.3)\n"
     ]
    }
   ],
   "source": [
    "!pip install grandalf"
   ]
  },
  {
   "cell_type": "code",
   "execution_count": 24,
   "metadata": {},
   "outputs": [
    {
     "name": "stdout",
     "output_type": "stream",
     "text": [
      "              +-----------+        \n",
      "              | __start__ |        \n",
      "              +-----------+        \n",
      "                     *             \n",
      "                     *             \n",
      "                     *             \n",
      "              +------------+       \n",
      "              | classifier |       \n",
      "              +------------+       \n",
      "              ..           ..      \n",
      "            ..               ..    \n",
      "          ..                   ..  \n",
      "+--------------+                 ..\n",
      "| fact_checker |               ..  \n",
      "+--------------+             ..    \n",
      "              **           ..      \n",
      "                **       ..        \n",
      "                  **   ..          \n",
      "                +---------+        \n",
      "                | __end__ |        \n",
      "                +---------+        \n"
     ]
    }
   ],
   "source": [
    "graph.get_graph().print_ascii()"
   ]
  },
  {
   "cell_type": "code",
   "execution_count": 25,
   "metadata": {},
   "outputs": [
    {
     "name": "stdout",
     "output_type": "stream",
     "text": [
      "cannot render\n"
     ]
    }
   ],
   "source": [
    "from IPython.display import Image, display\n",
    "\n",
    "try:\n",
    "    display(Image(graph.get_graph().draw_mermaid_png()))\n",
    "except Exception:\n",
    "    # This requires some extra dependencies and is optional\n",
    "    print(\"cannot render\")\n",
    "    pass"
   ]
  },
  {
   "cell_type": "code",
   "execution_count": null,
   "metadata": {},
   "outputs": [],
   "source": []
  }
 ],
 "metadata": {
  "kernelspec": {
   "display_name": "Python 3",
   "language": "python",
   "name": "python3"
  },
  "language_info": {
   "codemirror_mode": {
    "name": "ipython",
    "version": 3
   },
   "file_extension": ".py",
   "mimetype": "text/x-python",
   "name": "python",
   "nbconvert_exporter": "python",
   "pygments_lexer": "ipython3",
   "version": "3.12.0"
  }
 },
 "nbformat": 4,
 "nbformat_minor": 2
}
