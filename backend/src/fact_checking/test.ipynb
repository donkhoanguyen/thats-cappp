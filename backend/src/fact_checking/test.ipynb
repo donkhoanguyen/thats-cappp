{
 "cells": [
  {
   "cell_type": "code",
   "execution_count": 1,
   "metadata": {},
   "outputs": [
    {
     "data": {
      "text/plain": [
       "True"
      ]
     },
     "execution_count": 1,
     "metadata": {},
     "output_type": "execute_result"
    }
   ],
   "source": [
    "import os\n",
    "from typing import Dict, TypedDict, Annotated, Sequence, List, Optional\n",
    "\n",
    "from langchain_core.messages import SystemMessage, HumanMessage, AIMessage, BaseMessage\n",
    "from langchain_openai import ChatOpenAI\n",
    "from langchain_core.prompts import ChatPromptTemplate\n",
    "from langchain_core.output_parsers import StrOutputParser\n",
    "from langgraph.graph import StateGraph, END\n",
    "\n",
    "from dotenv import load_dotenv\n",
    "load_dotenv()\n",
    "\n"
   ]
  },
  {
   "cell_type": "code",
   "execution_count": 2,
   "metadata": {},
   "outputs": [],
   "source": [
    "from graph_checker import graph\n",
    "\n",
    "from langchain_core.caches import BaseCache"
   ]
  },
  {
   "cell_type": "code",
   "execution_count": 3,
   "metadata": {},
   "outputs": [
    {
     "data": {
      "image/png": "[encoded data removed]",
      "text/plain": [
       "<IPython.core.display.Image object>"
      ]
     },
     "metadata": {},
     "output_type": "display_data"
    }
   ],
   "source": [
    "from IPython.display import Image, display\n",
    "\n",
    "try:\n",
    "    display(Image(graph.get_graph().draw_mermaid_png()))\n",
    "except Exception:\n",
    "    # This requires some extra dependencies and is optional\n",
    "    print(\"cannot render\")\n",
    "    pass"
   ]
  },
  {
   "cell_type": "code",
   "execution_count": 4,
   "metadata": {},
   "outputs": [],
   "source": [
    "# Example usage of the fact-checking graph\n",
    "inputs = {\n",
    "    \"context\": \"Video transcript about scientific discoveries\",\n",
    "    \"claim\": \"Albert Einstein developed the theory of relativity\"\n",
    "}\n"
   ]
  },
  {
   "cell_type": "code",
   "execution_count": 5,
   "metadata": {},
   "outputs": [],
   "source": [
    "from langchain_core.callbacks import BaseCallbackHandler\n",
    "from langchain_core.callbacks.base import BaseCallbackManager\n",
    "\n",
    "from typing import Dict, TypedDict, Annotated, Sequence, List, Optional, Any, Union\n",
    "\n",
    "Callbacks = Optional[Union[List[BaseCallbackHandler], BaseCallbackManager]]"
   ]
  },
  {
   "cell_type": "code",
   "execution_count": 6,
   "metadata": {},
   "outputs": [
    {
     "data": {
      "text/plain": [
       "True"
      ]
     },
     "execution_count": 6,
     "metadata": {},
     "output_type": "execute_result"
    }
   ],
   "source": [
    "ChatOpenAI.model_rebuild()"
   ]
  },
  {
   "cell_type": "code",
   "execution_count": 7,
   "metadata": {},
   "outputs": [
    {
     "name": "stdout",
     "output_type": "stream",
     "text": [
      "FactChecker initialized.\n",
      "\n",
      "Fact-checking Results:\n",
      "Claim: Albert Einstein developed the theory of relativity\n",
      "\n",
      "Response: **True**  \n",
      "Albert Einstein developed both the **Theory of Special Relativity** in 1905 and the **Theory of General Relativity** in 1915. The special theory fundamentally altered our understanding of time, space, and energy, while the general theory introduced the concept of gravity as a curvature of space-time[1][2][4]. \n",
      "\n"
     ]
    }
   ],
   "source": [
    "# Run the graph with our inputs using the async API\n",
    "result = await graph.ainvoke(inputs)"
   ]
  },
  {
   "cell_type": "code",
   "execution_count": 8,
   "metadata": {},
   "outputs": [
    {
     "name": "stdout",
     "output_type": "stream",
     "text": [
      "Input claim: Albert Einstein developed the theory of relativity\n",
      "\n",
      "Claim type: factual\n",
      "Fact check result: **True**  \n",
      "Albert Einstein developed both the **Theory of Special Relativity** in 1905 and the **Theory of General Relativity** in 1915. The special theory fundamentally altered our understanding of time, space, and energy, while the general theory introduced the concept of gravity as a curvature of space-time[1][2][4].\n"
     ]
    }
   ],
   "source": [
    "print(\"Input claim:\", inputs[\"claim\"])\n",
    "print(\"\\nClaim type:\", result[\"claim_type\"])\n",
    "print(\"Fact check result:\", result[\"fact_check_result\"])"
   ]
  },
  {
   "cell_type": "code",
   "execution_count": 9,
   "metadata": {},
   "outputs": [],
   "source": [
    "# This requires that the code calling this function is also async:\n",
    "# pythonasync def main():\n",
    "#     # Your setup code...\n",
    "#     result = await graph.ainvoke(inputs)\n",
    "#     # Process results...\n",
    "\n",
    "# # Run the async main function\n",
    "# import asyncio\n",
    "# asyncio.run(main())"
   ]
  }
 ],
 "metadata": {
  "kernelspec": {
   "display_name": "Python 3",
   "language": "python",
   "name": "python3"
  },
  "language_info": {
   "codemirror_mode": {
    "name": "ipython",
    "version": 3
   },
   "file_extension": ".py",
   "mimetype": "text/x-python",
   "name": "python",
   "nbconvert_exporter": "python",
   "pygments_lexer": "ipython3",
   "version": "3.12.0"
  }
 },
 "nbformat": 4,
 "nbformat_minor": 2
}
